{
 "cells": [
  {
   "cell_type": "markdown",
   "metadata": {},
   "source": [
    "# <font color=darkolivegreen> Определение неэффективных операторов в сервисе \"Нупозвони\"</font> \n",
    "\n",
    "## <font color=olive>Описание данных</font>\n",
    "\n",
    "#### <font color=olivedrab>Таблица telecom_dataset.csv.zip:</font>\n",
    "\n",
    " - user_id — идентификатор клиентского аккаунта в сервисе;\n",
    " - date — дата статистики;\n",
    " - direction — направление вызовов (out - исходящий вызов, in — входящий вызов);\n",
    " - internal — является ли звонок внутренним звонком между операторами клиента;\n",
    " - operator_id — идентификатор оператора;\n",
    " - is_missed_call — является ли звонок пропущенным;\n",
    " - calls_count — количество звонков;\n",
    " - call_duration — длительность звонка (без учета времени ожидания);\n",
    " - total_call_duration — длительность звонка (с учетом времени ожидания).\n",
    "\n",
    "#### <font color=olivedrab>Таблица telecom_clients.csv:</font>\n",
    "\n",
    " - user_id — идентификатор клиентского аккаунта в сервисе\n",
    " - tariff_plan —  текущий тарифный план клиента\n",
    " - date_start — дата регистрации клиента в сервисе"
   ]
  },
  {
   "cell_type": "markdown",
   "metadata": {},
   "source": [
    "#### <font color=olivedrab>Оглавление </font>\n",
    "\n",
    "1. [Открытие данных](#открытие)\n",
    "2. [Предобработка данных](#предобработка)\n",
    "    * [Предобработка таблицы telecom_dataset](#telecom_dataset)\n",
    "    * [Предобработка таблицы telecom_clients](#telecom_clients)\n",
    "    * [Вывод](#вывод_предобработка)  \n",
    "3. [Исследовательский анализ данных](#eda)\n",
    "    * [Аномалии столбца calls_count](#calls_count)\n",
    "    * [Аномалии столбца avg_call_duration](#avg_call_duration)\n",
    "    * [Аномалии столбца avg_expectation_duration](#avg_expectation_duration)\n",
    "    * [Вывод](#вывод_eda)\n",
    "4. [Определение неэффективных операторов и клиентов с неэффективными операторами](#определение)\n",
    "    * [Определение неэффективных операторов по признаку длительности времени ожидания ответа на звонок](#долгое_ожидание)\n",
    "    * [Определение неэффективных операторов по признаку количества пропущенных звонков](#много_пропущенных)\n",
    "    * [Определение неэффективных операторов по 2 признакам](#неэффективные)\n",
    "    * [Определение клиентов с неэффективными операторами](#клиенты_с_неэффективными)\n",
    "    * [Вывод](#вывод_определение)\n",
    "5. [Проверка гипотез](#гипотезы)\n",
    "6. [Общий вывод](#вывод)\n",
    "7. [Презентация](#презентация)\n",
    "8. [Дашборды](#дашборд)\n",
    "\n",
    "\n",
    "### <font color=olive>Открытие данных и изучение общей информации</font> <a id=\"открытие\"></a>"
   ]
  },
  {
   "cell_type": "code",
   "execution_count": 121,
   "metadata": {},
   "outputs": [],
   "source": [
    "# импортируем данные\n",
    "import pandas as pd\n",
    "import numpy as np\n",
    "import matplotlib.pyplot as plt\n",
    "import seaborn as sns\n",
    "import plotly.express as px\n",
    "import math as mth\n",
    "from datetime import datetime, time\n",
    "from matplotlib import pyplot as plt\n",
    "from plotly import graph_objects as go\n",
    "from scipy import stats as st\n",
    "from scipy.stats.mstats import mode"
   ]
  },
  {
   "cell_type": "code",
   "execution_count": 122,
   "metadata": {},
   "outputs": [],
   "source": [
    "#сохраним исходные таблицы в переменные:\n",
    "telecom_dataset = pd.read_csv('telecom_dataset.csv')\n",
    "telecom_clients = pd.read_csv('telecom_clients.csv')"
   ]
  },
  {
   "cell_type": "code",
   "execution_count": 123,
   "metadata": {},
   "outputs": [
    {
     "data": {
      "text/html": [
       "<div>\n",
       "<style scoped>\n",
       "    .dataframe tbody tr th:only-of-type {\n",
       "        vertical-align: middle;\n",
       "    }\n",
       "\n",
       "    .dataframe tbody tr th {\n",
       "        vertical-align: top;\n",
       "    }\n",
       "\n",
       "    .dataframe thead th {\n",
       "        text-align: right;\n",
       "    }\n",
       "</style>\n",
       "<table border=\"1\" class=\"dataframe\">\n",
       "  <thead>\n",
       "    <tr style=\"text-align: right;\">\n",
       "      <th></th>\n",
       "      <th>user_id</th>\n",
       "      <th>date</th>\n",
       "      <th>direction</th>\n",
       "      <th>internal</th>\n",
       "      <th>operator_id</th>\n",
       "      <th>is_missed_call</th>\n",
       "      <th>calls_count</th>\n",
       "      <th>call_duration</th>\n",
       "      <th>total_call_duration</th>\n",
       "    </tr>\n",
       "  </thead>\n",
       "  <tbody>\n",
       "    <tr>\n",
       "      <td>0</td>\n",
       "      <td>166377</td>\n",
       "      <td>2019-08-04 00:00:00+03:00</td>\n",
       "      <td>in</td>\n",
       "      <td>False</td>\n",
       "      <td>NaN</td>\n",
       "      <td>True</td>\n",
       "      <td>2</td>\n",
       "      <td>0</td>\n",
       "      <td>4</td>\n",
       "    </tr>\n",
       "    <tr>\n",
       "      <td>1</td>\n",
       "      <td>166377</td>\n",
       "      <td>2019-08-05 00:00:00+03:00</td>\n",
       "      <td>out</td>\n",
       "      <td>True</td>\n",
       "      <td>880022.0</td>\n",
       "      <td>True</td>\n",
       "      <td>3</td>\n",
       "      <td>0</td>\n",
       "      <td>5</td>\n",
       "    </tr>\n",
       "    <tr>\n",
       "      <td>2</td>\n",
       "      <td>166377</td>\n",
       "      <td>2019-08-05 00:00:00+03:00</td>\n",
       "      <td>out</td>\n",
       "      <td>True</td>\n",
       "      <td>880020.0</td>\n",
       "      <td>True</td>\n",
       "      <td>1</td>\n",
       "      <td>0</td>\n",
       "      <td>1</td>\n",
       "    </tr>\n",
       "    <tr>\n",
       "      <td>3</td>\n",
       "      <td>166377</td>\n",
       "      <td>2019-08-05 00:00:00+03:00</td>\n",
       "      <td>out</td>\n",
       "      <td>True</td>\n",
       "      <td>880020.0</td>\n",
       "      <td>False</td>\n",
       "      <td>1</td>\n",
       "      <td>10</td>\n",
       "      <td>18</td>\n",
       "    </tr>\n",
       "    <tr>\n",
       "      <td>4</td>\n",
       "      <td>166377</td>\n",
       "      <td>2019-08-05 00:00:00+03:00</td>\n",
       "      <td>out</td>\n",
       "      <td>False</td>\n",
       "      <td>880022.0</td>\n",
       "      <td>True</td>\n",
       "      <td>3</td>\n",
       "      <td>0</td>\n",
       "      <td>25</td>\n",
       "    </tr>\n",
       "  </tbody>\n",
       "</table>\n",
       "</div>"
      ],
      "text/plain": [
       "   user_id                       date direction internal  operator_id  \\\n",
       "0   166377  2019-08-04 00:00:00+03:00        in    False          NaN   \n",
       "1   166377  2019-08-05 00:00:00+03:00       out     True     880022.0   \n",
       "2   166377  2019-08-05 00:00:00+03:00       out     True     880020.0   \n",
       "3   166377  2019-08-05 00:00:00+03:00       out     True     880020.0   \n",
       "4   166377  2019-08-05 00:00:00+03:00       out    False     880022.0   \n",
       "\n",
       "   is_missed_call  calls_count  call_duration  total_call_duration  \n",
       "0            True            2              0                    4  \n",
       "1            True            3              0                    5  \n",
       "2            True            1              0                    1  \n",
       "3           False            1             10                   18  \n",
       "4            True            3              0                   25  "
      ]
     },
     "execution_count": 123,
     "metadata": {},
     "output_type": "execute_result"
    }
   ],
   "source": [
    "telecom_dataset.head()"
   ]
  },
  {
   "cell_type": "code",
   "execution_count": 124,
   "metadata": {},
   "outputs": [
    {
     "name": "stdout",
     "output_type": "stream",
     "text": [
      "<class 'pandas.core.frame.DataFrame'>\n",
      "RangeIndex: 53902 entries, 0 to 53901\n",
      "Data columns (total 9 columns):\n",
      "user_id                53902 non-null int64\n",
      "date                   53902 non-null object\n",
      "direction              53902 non-null object\n",
      "internal               53785 non-null object\n",
      "operator_id            45730 non-null float64\n",
      "is_missed_call         53902 non-null bool\n",
      "calls_count            53902 non-null int64\n",
      "call_duration          53902 non-null int64\n",
      "total_call_duration    53902 non-null int64\n",
      "dtypes: bool(1), float64(1), int64(4), object(3)\n",
      "memory usage: 3.3+ MB\n"
     ]
    }
   ],
   "source": [
    "telecom_dataset.info()"
   ]
  },
  {
   "cell_type": "markdown",
   "metadata": {},
   "source": [
    "В таблице telecom_dataset представлены данные о звонках, сгруппированных по признакам:\n",
    " - user_id — идентификатор клиентского аккаунта в сервисе;\n",
    " - date — дата статистики;\n",
    " - direction — направление вызовов (out - исходящий вызов, in — входящий вызов);\n",
    " - internal — является ли звонок внутренним звонком между операторами клиента;\n",
    " - operator_id — идентификатор оператора;\n",
    " - is_missed_call — является ли звонок пропущенным;\n",
    " - calls_count — количество звонков;\n",
    " - call_duration — длительность звонка (без учета времени ожидания);\n",
    " - total_call_duration — длительность звонка (с учетом времени ожидания).\n",
    "\n",
    "Всего содержится 53 902 записи. В графе с информацией о том, является ли звонок внутренним или внешним есть пропущенные значения. Так же не во всех строках проставлен id оператора. Тип данных столбца date необходимо в дальнейшем заменить на дату."
   ]
  },
  {
   "cell_type": "code",
   "execution_count": 125,
   "metadata": {},
   "outputs": [
    {
     "data": {
      "text/html": [
       "<div>\n",
       "<style scoped>\n",
       "    .dataframe tbody tr th:only-of-type {\n",
       "        vertical-align: middle;\n",
       "    }\n",
       "\n",
       "    .dataframe tbody tr th {\n",
       "        vertical-align: top;\n",
       "    }\n",
       "\n",
       "    .dataframe thead th {\n",
       "        text-align: right;\n",
       "    }\n",
       "</style>\n",
       "<table border=\"1\" class=\"dataframe\">\n",
       "  <thead>\n",
       "    <tr style=\"text-align: right;\">\n",
       "      <th></th>\n",
       "      <th>user_id</th>\n",
       "      <th>tariff_plan</th>\n",
       "      <th>date_start</th>\n",
       "    </tr>\n",
       "  </thead>\n",
       "  <tbody>\n",
       "    <tr>\n",
       "      <td>0</td>\n",
       "      <td>166713</td>\n",
       "      <td>A</td>\n",
       "      <td>2019-08-15</td>\n",
       "    </tr>\n",
       "    <tr>\n",
       "      <td>1</td>\n",
       "      <td>166901</td>\n",
       "      <td>A</td>\n",
       "      <td>2019-08-23</td>\n",
       "    </tr>\n",
       "    <tr>\n",
       "      <td>2</td>\n",
       "      <td>168527</td>\n",
       "      <td>A</td>\n",
       "      <td>2019-10-29</td>\n",
       "    </tr>\n",
       "    <tr>\n",
       "      <td>3</td>\n",
       "      <td>167097</td>\n",
       "      <td>A</td>\n",
       "      <td>2019-09-01</td>\n",
       "    </tr>\n",
       "    <tr>\n",
       "      <td>4</td>\n",
       "      <td>168193</td>\n",
       "      <td>A</td>\n",
       "      <td>2019-10-16</td>\n",
       "    </tr>\n",
       "  </tbody>\n",
       "</table>\n",
       "</div>"
      ],
      "text/plain": [
       "   user_id tariff_plan  date_start\n",
       "0   166713           A  2019-08-15\n",
       "1   166901           A  2019-08-23\n",
       "2   168527           A  2019-10-29\n",
       "3   167097           A  2019-09-01\n",
       "4   168193           A  2019-10-16"
      ]
     },
     "execution_count": 125,
     "metadata": {},
     "output_type": "execute_result"
    }
   ],
   "source": [
    "telecom_clients.head()"
   ]
  },
  {
   "cell_type": "code",
   "execution_count": 126,
   "metadata": {},
   "outputs": [
    {
     "name": "stdout",
     "output_type": "stream",
     "text": [
      "<class 'pandas.core.frame.DataFrame'>\n",
      "RangeIndex: 732 entries, 0 to 731\n",
      "Data columns (total 3 columns):\n",
      "user_id        732 non-null int64\n",
      "tariff_plan    732 non-null object\n",
      "date_start     732 non-null object\n",
      "dtypes: int64(1), object(2)\n",
      "memory usage: 17.3+ KB\n"
     ]
    }
   ],
   "source": [
    "telecom_clients.info()"
   ]
  },
  {
   "cell_type": "markdown",
   "metadata": {},
   "source": [
    "В таблице telecom_clients содержится информация о 732 клиентах сервиса с указанием тарифного плана клиента и даты его регистрации. Пропусков нет, тип данных столбца date_start в дальнейшем необходимо заменим на дату.\n",
    "\n",
    "### <font color=olive>Предобработка данных</font>  <a id=\"предобработка\"></a>\n",
    "\n",
    "##### Таблица telecom_dataset <a id=\"telecom_dataset\"></a>\n",
    "\n",
    "Заполним пропущенные значения в столбце operator_id самым часто встречающимся значением айди оператора по каждому клиенту:"
   ]
  },
  {
   "cell_type": "code",
   "execution_count": 127,
   "metadata": {},
   "outputs": [
    {
     "name": "stdout",
     "output_type": "stream",
     "text": [
      "<class 'pandas.core.frame.DataFrame'>\n",
      "RangeIndex: 53902 entries, 0 to 53901\n",
      "Data columns (total 9 columns):\n",
      "user_id                53902 non-null int64\n",
      "date                   53902 non-null object\n",
      "direction              53902 non-null object\n",
      "internal               53785 non-null object\n",
      "operator_id            53902 non-null float64\n",
      "is_missed_call         53902 non-null bool\n",
      "calls_count            53902 non-null int64\n",
      "call_duration          53902 non-null int64\n",
      "total_call_duration    53902 non-null int64\n",
      "dtypes: bool(1), float64(1), int64(4), object(3)\n",
      "memory usage: 3.3+ MB\n"
     ]
    }
   ],
   "source": [
    "mode =  telecom_dataset['operator_id'].mode()[0]\n",
    "telecom_dataset['operator_id'] = telecom_dataset.groupby('user_id')['operator_id'].apply(lambda x: x.fillna(x.value_counts().idxmax() if x.value_counts().max() >=1 else mode , inplace = False))\n",
    "telecom_dataset.info()"
   ]
  },
  {
   "cell_type": "markdown",
   "metadata": {},
   "source": [
    "Удалим строки с отсутствующими данными по графе internal:"
   ]
  },
  {
   "cell_type": "code",
   "execution_count": 130,
   "metadata": {
    "scrolled": true
   },
   "outputs": [
    {
     "name": "stdout",
     "output_type": "stream",
     "text": [
      "<class 'pandas.core.frame.DataFrame'>\n",
      "Int64Index: 53785 entries, 0 to 53901\n",
      "Data columns (total 9 columns):\n",
      "user_id                53785 non-null int64\n",
      "date                   53785 non-null object\n",
      "direction              53785 non-null object\n",
      "internal               53785 non-null object\n",
      "operator_id            53785 non-null float64\n",
      "is_missed_call         53785 non-null bool\n",
      "calls_count            53785 non-null int64\n",
      "call_duration          53785 non-null int64\n",
      "total_call_duration    53785 non-null int64\n",
      "dtypes: bool(1), float64(1), int64(4), object(3)\n",
      "memory usage: 3.7+ MB\n"
     ]
    }
   ],
   "source": [
    "telecom_dataset.dropna(inplace=True)\n",
    "telecom_dataset.info()"
   ]
  },
  {
   "cell_type": "markdown",
   "metadata": {},
   "source": [
    "Теперь проверим таблицу telecom_dataset на наличие дубликатов: "
   ]
  },
  {
   "cell_type": "code",
   "execution_count": 131,
   "metadata": {},
   "outputs": [
    {
     "data": {
      "text/plain": [
       "4895"
      ]
     },
     "execution_count": 131,
     "metadata": {},
     "output_type": "execute_result"
    }
   ],
   "source": [
    "telecom_dataset.duplicated().sum()"
   ]
  },
  {
   "cell_type": "markdown",
   "metadata": {},
   "source": [
    "Около 9% содержащихся в таблице строк - полные дубликаты уже имеющихся. Удалим их:"
   ]
  },
  {
   "cell_type": "code",
   "execution_count": 132,
   "metadata": {},
   "outputs": [
    {
     "name": "stdout",
     "output_type": "stream",
     "text": [
      "<class 'pandas.core.frame.DataFrame'>\n",
      "RangeIndex: 48890 entries, 0 to 48889\n",
      "Data columns (total 9 columns):\n",
      "user_id                48890 non-null int64\n",
      "date                   48890 non-null object\n",
      "direction              48890 non-null object\n",
      "internal               48890 non-null object\n",
      "operator_id            48890 non-null float64\n",
      "is_missed_call         48890 non-null bool\n",
      "calls_count            48890 non-null int64\n",
      "call_duration          48890 non-null int64\n",
      "total_call_duration    48890 non-null int64\n",
      "dtypes: bool(1), float64(1), int64(4), object(3)\n",
      "memory usage: 3.0+ MB\n"
     ]
    }
   ],
   "source": [
    "telecom_dataset = telecom_dataset.drop_duplicates().reset_index().drop('index', axis = 1)\n",
    "telecom_dataset.info()"
   ]
  },
  {
   "cell_type": "markdown",
   "metadata": {},
   "source": [
    "Заменим тип данных столбца date на дату, а тип данных столбца operator_id на int64:"
   ]
  },
  {
   "cell_type": "code",
   "execution_count": 133,
   "metadata": {},
   "outputs": [],
   "source": [
    "#telecom_dataset['date'] = pd.to_datetime(telecom_dataset['date'], format='%Y-%m-%dT%H:%M:%S')\n",
    "telecom_dataset['date'] = pd.to_datetime(telecom_dataset['date'])\n",
    "telecom_dataset['date'] = telecom_dataset['date'].dt.date\n",
    "telecom_dataset['operator_id'] = telecom_dataset['operator_id'].astype('int64')"
   ]
  },
  {
   "cell_type": "markdown",
   "metadata": {},
   "source": [
    "Добавим столбец с длительностью ожидания ответа на звонок и столбцы с расчетным временем длительности 1 звонка без учета времени ожидания, с учетом времени ожидания и длительности ожидания на 1 звонок:"
   ]
  },
  {
   "cell_type": "code",
   "execution_count": 134,
   "metadata": {},
   "outputs": [],
   "source": [
    "telecom_dataset['expectation_duration'] = telecom_dataset['total_call_duration'] - telecom_dataset['call_duration']\n",
    "telecom_dataset['avg_call_duration'] = (telecom_dataset['call_duration'] / telecom_dataset['calls_count']).round(2)\n",
    "telecom_dataset['avg_total_call_duration'] = (telecom_dataset['total_call_duration'] / telecom_dataset['calls_count']).round(2)\n",
    "telecom_dataset['avg_expectation_duration'] = (telecom_dataset['expectation_duration'] / telecom_dataset['calls_count']).round(2)"
   ]
  },
  {
   "cell_type": "markdown",
   "metadata": {},
   "source": [
    "##### Таблица telecom_clients <a id=\"telecom_clients\"></a>\n",
    "\n",
    "Проверим наличие дубликатов в таблице:"
   ]
  },
  {
   "cell_type": "code",
   "execution_count": 135,
   "metadata": {},
   "outputs": [
    {
     "data": {
      "text/plain": [
       "0"
      ]
     },
     "execution_count": 135,
     "metadata": {},
     "output_type": "execute_result"
    }
   ],
   "source": [
    "telecom_clients.duplicated().sum()"
   ]
  },
  {
   "cell_type": "markdown",
   "metadata": {},
   "source": [
    "Дубликатов нет.\n",
    "\n",
    "Заменим тип данных столбца date_start на дату:"
   ]
  },
  {
   "cell_type": "code",
   "execution_count": 136,
   "metadata": {},
   "outputs": [],
   "source": [
    "telecom_clients['date_start'] = pd.to_datetime(telecom_clients['date_start'], format='%Y-%m-%d')"
   ]
  },
  {
   "cell_type": "markdown",
   "metadata": {},
   "source": [
    "И объединим таблицы по графе user_id для удобства дальнейшего анализа:"
   ]
  },
  {
   "cell_type": "code",
   "execution_count": 137,
   "metadata": {},
   "outputs": [],
   "source": [
    "telecom_dataset = telecom_dataset.merge(telecom_clients, on = 'user_id')"
   ]
  },
  {
   "cell_type": "code",
   "execution_count": 138,
   "metadata": {},
   "outputs": [
    {
     "name": "stdout",
     "output_type": "stream",
     "text": [
      "<class 'pandas.core.frame.DataFrame'>\n",
      "Int64Index: 48890 entries, 0 to 48889\n",
      "Data columns (total 15 columns):\n",
      "user_id                     48890 non-null int64\n",
      "date                        48890 non-null object\n",
      "direction                   48890 non-null object\n",
      "internal                    48890 non-null object\n",
      "operator_id                 48890 non-null int64\n",
      "is_missed_call              48890 non-null bool\n",
      "calls_count                 48890 non-null int64\n",
      "call_duration               48890 non-null int64\n",
      "total_call_duration         48890 non-null int64\n",
      "expectation_duration        48890 non-null int64\n",
      "avg_call_duration           48890 non-null float64\n",
      "avg_total_call_duration     48890 non-null float64\n",
      "avg_expectation_duration    48890 non-null float64\n",
      "tariff_plan                 48890 non-null object\n",
      "date_start                  48890 non-null datetime64[ns]\n",
      "dtypes: bool(1), datetime64[ns](1), float64(3), int64(6), object(4)\n",
      "memory usage: 5.6+ MB\n"
     ]
    }
   ],
   "source": [
    "telecom_dataset.info()"
   ]
  },
  {
   "cell_type": "markdown",
   "metadata": {},
   "source": [
    "### Вывод </font> <a id=\"вывод_предобработка\"></a>\n",
    "\n",
    "В ходе предобработки были\n",
    "- заменены типы данных столбцов, содержащих дату, на корректный;\n",
    "- заполнены пропущенные значения столбца operator_id;\n",
    "- удалены строки (всего 117) с пропущенными значениями столбца internal;\n",
    "- удалены дублирующие строки (4 895);\n",
    "- добавлены столбцы с длительностью ожидания ответа на звонок, со средней длительностью 1 звонка без и с учетом времени ожидания и время ожидания ответа на 1 звонок.\n",
    "\n",
    "Так же на этом этапе таблицы были объединены по графе user_id. Для дальнейшего анализа осталось 48 890 строк.\n",
    "\n",
    "### <font color=olive>Исследовательский анализ данных</font> <a id=\"eda\"></a>\n",
    "\n",
    "##### Проверим столбец calls_count: <a id=\"calls_count\"></a>"
   ]
  },
  {
   "cell_type": "code",
   "execution_count": 139,
   "metadata": {
    "scrolled": false
   },
   "outputs": [
    {
     "data": {
      "image/png": "[encoded data removed]",
      "text/plain": [
       "<Figure size 576x864 with 1 Axes>"
      ]
     },
     "metadata": {
      "needs_background": "light"
     },
     "output_type": "display_data"
    }
   ],
   "source": [
    "plt.figure(figsize=(8, 12))\n",
    "plt.ylim(0, 70)\n",
    "sns.boxplot(y=\"calls_count\", data = telecom_dataset)\n",
    "plt.title(\"Диаграмма размаха количества звонков\", size=15)\n",
    "plt.ylabel(\"Количество звонков\")\n",
    "plt.show()"
   ]
  },
  {
   "cell_type": "code",
   "execution_count": 140,
   "metadata": {},
   "outputs": [
    {
     "data": {
      "text/plain": [
       "count    48890.000000\n",
       "mean        16.495848\n",
       "std         63.672858\n",
       "min          1.000000\n",
       "25%          1.000000\n",
       "50%          4.000000\n",
       "75%         12.000000\n",
       "max       4817.000000\n",
       "Name: calls_count, dtype: float64"
      ]
     },
     "execution_count": 140,
     "metadata": {},
     "output_type": "execute_result"
    }
   ],
   "source": [
    "telecom_dataset['calls_count'].describe()"
   ]
  },
  {
   "cell_type": "markdown",
   "metadata": {},
   "source": [
    "В среднем, количество звонков в каждой строке находится в диапазоне от 1 до 12. Отбросим строки, количество звонков в которых находятся за границами диаграммы размаха:"
   ]
  },
  {
   "cell_type": "code",
   "execution_count": 141,
   "metadata": {},
   "outputs": [],
   "source": [
    "telecom_dataset = telecom_dataset.query('calls_count < 28.5')"
   ]
  },
  {
   "cell_type": "markdown",
   "metadata": {},
   "source": [
    "##### Рассмотрим столбец avg_call_duration: <a id=\"avg_call_duration\"></a>"
   ]
  },
  {
   "cell_type": "code",
   "execution_count": 142,
   "metadata": {},
   "outputs": [
    {
     "data": {
      "text/plain": [
       "False    24059\n",
       "True       295\n",
       "Name: is_missed_call, dtype: int64"
      ]
     },
     "execution_count": 142,
     "metadata": {},
     "output_type": "execute_result"
    }
   ],
   "source": [
    "telecom_dataset.query('avg_call_duration != 0')['is_missed_call'].value_counts()"
   ]
  },
  {
   "cell_type": "code",
   "execution_count": 143,
   "metadata": {},
   "outputs": [
    {
     "data": {
      "text/plain": [
       "True     18473\n",
       "False       17\n",
       "Name: is_missed_call, dtype: int64"
      ]
     },
     "execution_count": 143,
     "metadata": {},
     "output_type": "execute_result"
    }
   ],
   "source": [
    "telecom_dataset.query('avg_call_duration == 0')['is_missed_call'].value_counts()"
   ]
  },
  {
   "cell_type": "markdown",
   "metadata": {},
   "source": [
    "В таблице содержится 295 записей, в которых ненулевая длительность звонков, но запись обозначена как пропущенная, а также 17 строк, в которых длительность звонков нулевая, но отмечено, что звонок не пропущен. Не будем учитывать эти строки в дальнейшем анализе:"
   ]
  },
  {
   "cell_type": "code",
   "execution_count": 144,
   "metadata": {},
   "outputs": [],
   "source": [
    "telecom_dataset = (telecom_dataset[(~(telecom_dataset['avg_call_duration'] == 0) & (telecom_dataset['is_missed_call'] == False)) |\n",
    "                  ((telecom_dataset['avg_call_duration'] == 0) & (telecom_dataset['is_missed_call'] == True))])"
   ]
  },
  {
   "cell_type": "markdown",
   "metadata": {},
   "source": [
    "##### Рассмотрим столбец avg_expectation_duration: <a id=\"avg_expectation_duration\"></a>"
   ]
  },
  {
   "cell_type": "markdown",
   "metadata": {},
   "source": [
    "Проверим распределение значений средней длительности ожидания звонка. Причем в целях оценки эффективности операторов, лучше рассматривать именно входящие звонки:"
   ]
  },
  {
   "cell_type": "code",
   "execution_count": 145,
   "metadata": {},
   "outputs": [
    {
     "data": {
      "text/plain": [
       "count    18465.000000\n",
       "mean        17.566961\n",
       "std         17.277378\n",
       "min          0.000000\n",
       "25%          7.000000\n",
       "50%         13.500000\n",
       "75%         24.000000\n",
       "max        465.000000\n",
       "Name: avg_expectation_duration, dtype: float64"
      ]
     },
     "execution_count": 145,
     "metadata": {},
     "output_type": "execute_result"
    }
   ],
   "source": [
    "telecom_dataset.query('direction == \"in\"')['avg_expectation_duration'].describe()"
   ]
  },
  {
   "cell_type": "code",
   "execution_count": 146,
   "metadata": {},
   "outputs": [
    {
     "data": {
      "image/png": "[encoded data removed]",
      "text/plain": [
       "<Figure size 1080x576 with 1 Axes>"
      ]
     },
     "metadata": {
      "needs_background": "light"
     },
     "output_type": "display_data"
    }
   ],
   "source": [
    "plt.figure(figsize=(15, 8))\n",
    "sns.distplot(telecom_dataset.query('direction == \"in\"')['avg_expectation_duration'])\n",
    "plt.xlim(0, 150)\n",
    "plt.title('Распределение длительности ожидания ответа на звонок', size=12)\n",
    "plt.xlabel(\"Средняя длительность времени ожидания ответа на звонок\")\n",
    "plt.ylabel(\"Частота значения\")\n",
    "plt.show()"
   ]
  },
  {
   "cell_type": "markdown",
   "metadata": {},
   "source": [
    "Основная масса звонков с длительностью ожидания около 10 секунд. Как видно из графика, много звонков с длительностью ожидания 0-1 секунды, возможно этого времени оператору не хватило бы даже ответить, звонок по какой-то причине сорвался, но уже попал в категорию пропущенных. Исключим из дальнейшего анализа звонки, длительность ожидания ответа на которые менее 3 секунд: "
   ]
  },
  {
   "cell_type": "code",
   "execution_count": 147,
   "metadata": {},
   "outputs": [],
   "source": [
    "telecom_dataset = telecom_dataset[~((telecom_dataset['direction'] == \"in\") & (telecom_dataset['avg_expectation_duration'] < 3))]"
   ]
  },
  {
   "cell_type": "code",
   "execution_count": 148,
   "metadata": {
    "scrolled": false
   },
   "outputs": [
    {
     "data": {
      "image/png": "[encoded data removed]",
      "text/plain": [
       "<Figure size 576x864 with 1 Axes>"
      ]
     },
     "metadata": {
      "needs_background": "light"
     },
     "output_type": "display_data"
    }
   ],
   "source": [
    "plt.figure(figsize=(8, 12))\n",
    "plt.ylim(0, 300)\n",
    "sns.boxplot(y=\"avg_expectation_duration\", data = telecom_dataset.query('direction == \"in\"'))\n",
    "plt.title(\"Диаграмма размаха времени ожидания ответа на звонок\")\n",
    "plt.ylabel(\"Время ожидания ответа на звонок\")\n",
    "plt.show()"
   ]
  },
  {
   "cell_type": "code",
   "execution_count": 149,
   "metadata": {},
   "outputs": [
    {
     "data": {
      "text/plain": [
       "count    16505.000000\n",
       "mean        19.490563\n",
       "std         17.292256\n",
       "min          3.000000\n",
       "25%          9.000000\n",
       "50%         15.120000\n",
       "75%         25.000000\n",
       "max        465.000000\n",
       "Name: avg_expectation_duration, dtype: float64"
      ]
     },
     "execution_count": 149,
     "metadata": {},
     "output_type": "execute_result"
    }
   ],
   "source": [
    "telecom_dataset.query('direction == \"in\"')['avg_expectation_duration'].describe()"
   ]
  },
  {
   "cell_type": "markdown",
   "metadata": {},
   "source": [
    "В среднем, время ожидания ответа на входящий звонок находится в  диапазоне от 9 до 25. Исключим из дальнейшего анализа звонки, длительность ожидания которых находится за границами диаграммы размаха:"
   ]
  },
  {
   "cell_type": "code",
   "execution_count": 150,
   "metadata": {},
   "outputs": [],
   "source": [
    "telecom_dataset = telecom_dataset[~((telecom_dataset['direction'] == \"in\") & (telecom_dataset['avg_expectation_duration'] > 50))]"
   ]
  },
  {
   "cell_type": "markdown",
   "metadata": {},
   "source": [
    "### Вывод </font> <a id=\"вывод_eda\"></a>\n",
    "\n",
    "В ходе исследовательского анализа были выявлены и исключены из дальнейшего анализа аномалии в столбцах содержащих данные о количестве пропущенных звонков и о длительности ожидания ответа на звонок."
   ]
  },
  {
   "cell_type": "code",
   "execution_count": 151,
   "metadata": {},
   "outputs": [
    {
     "data": {
      "image/png": "[encoded data removed]",
      "text/plain": [
       "<Figure size 1080x576 with 1 Axes>"
      ]
     },
     "metadata": {
      "needs_background": "light"
     },
     "output_type": "display_data"
    }
   ],
   "source": [
    "plt.figure(figsize=(15, 8))\n",
    "sns.distplot(telecom_dataset.query('is_missed_call == False')['avg_call_duration'])\n",
    "plt.title('Распределение длительности звоноков', size=12)\n",
    "plt.xlabel(\"Средняя длительность звонков\")\n",
    "plt.ylabel(\"Частота значения\")\n",
    "plt.show()"
   ]
  },
  {
   "cell_type": "markdown",
   "metadata": {},
   "source": [
    "Основная масса звонков длительностью около 100 секунд. Как видно из графика, много звонков с длительностью в районе 0 секунд,  Исключим из дальнейшего анализа звонки, которыех менее 10 секунд:"
   ]
  },
  {
   "cell_type": "code",
   "execution_count": 152,
   "metadata": {},
   "outputs": [],
   "source": [
    "telecom_dataset = telecom_dataset[~((telecom_dataset['is_missed_call'] == False) & (telecom_dataset['avg_call_duration'] < 10))]"
   ]
  },
  {
   "cell_type": "code",
   "execution_count": 153,
   "metadata": {
    "scrolled": true
   },
   "outputs": [
    {
     "data": {
      "text/plain": [
       "count    22443.000000\n",
       "mean       128.367734\n",
       "std        158.387330\n",
       "min         10.000000\n",
       "25%         47.110000\n",
       "50%         85.220000\n",
       "75%        148.330000\n",
       "max       3550.000000\n",
       "Name: avg_call_duration, dtype: float64"
      ]
     },
     "execution_count": 153,
     "metadata": {},
     "output_type": "execute_result"
    }
   ],
   "source": [
    "telecom_dataset.query('is_missed_call == False')['avg_call_duration'].describe()"
   ]
  },
  {
   "cell_type": "code",
   "execution_count": 154,
   "metadata": {},
   "outputs": [
    {
     "data": {
      "image/png": "[encoded data removed]",
      "text/plain": [
       "<Figure size 576x864 with 1 Axes>"
      ]
     },
     "metadata": {
      "needs_background": "light"
     },
     "output_type": "display_data"
    }
   ],
   "source": [
    "plt.figure(figsize=(8, 12))\n",
    "plt.ylim(0, 300)\n",
    "sns.boxplot(y=\"avg_call_duration\", data = telecom_dataset.query('is_missed_call == False'))\n",
    "plt.title(\"Диаграмма размаха длительности звонка\")\n",
    "plt.ylabel(\"Длительность звонка\")\n",
    "plt.show()"
   ]
  },
  {
   "cell_type": "markdown",
   "metadata": {},
   "source": [
    "В среднем, длительность звонка находится в диапазоне от 47 до 148. Исключим из дальнейшего анализа звонки, длительность которых находится за границами диаграммы размаха:"
   ]
  },
  {
   "cell_type": "code",
   "execution_count": 155,
   "metadata": {},
   "outputs": [],
   "source": [
    "telecom_dataset = telecom_dataset[~((telecom_dataset['direction'] == \"in\") & (telecom_dataset['avg_call_duration'] > 300))]"
   ]
  },
  {
   "cell_type": "code",
   "execution_count": 156,
   "metadata": {},
   "outputs": [],
   "source": [
    "telecom_dataset.to_csv('telecom_dataset_dash.csv', sep=',')"
   ]
  },
  {
   "cell_type": "markdown",
   "metadata": {},
   "source": [
    "### <font color=olive>Определение неэффективных операторов и клиентов с неэффективными операторами</font> <a id=\"определение\"></a>"
   ]
  },
  {
   "cell_type": "markdown",
   "metadata": {},
   "source": [
    "Рассмотрим диаграмму размаха времени ожидания ответа на звонок: <a id=\"долгое_ожидание\"></a>"
   ]
  },
  {
   "cell_type": "code",
   "execution_count": 157,
   "metadata": {},
   "outputs": [
    {
     "data": {
      "image/png": "[encoded data removed]",
      "text/plain": [
       "<Figure size 576x864 with 1 Axes>"
      ]
     },
     "metadata": {
      "needs_background": "light"
     },
     "output_type": "display_data"
    }
   ],
   "source": [
    "plt.figure(figsize=(8, 12))\n",
    "sns.boxplot(y=\"avg_expectation_duration\", data = telecom_dataset.query('direction == \"in\"'))\n",
    "plt.title(\"Диаграмма размаха времени ожидания ответа на звонок\", size=15)\n",
    "plt.ylabel(\"Время ожидания ответа на звонок\")\n",
    "plt.show()"
   ]
  },
  {
   "cell_type": "code",
   "execution_count": 158,
   "metadata": {},
   "outputs": [
    {
     "data": {
      "text/plain": [
       "count    14767.000000\n",
       "mean        17.300245\n",
       "std         10.728456\n",
       "min          3.000000\n",
       "25%          8.600000\n",
       "50%         15.000000\n",
       "75%         24.000000\n",
       "max         50.000000\n",
       "Name: avg_expectation_duration, dtype: float64"
      ]
     },
     "execution_count": 158,
     "metadata": {},
     "output_type": "execute_result"
    }
   ],
   "source": [
    "telecom_dataset.query('direction == \"in\"')['avg_expectation_duration'].describe()"
   ]
  },
  {
   "cell_type": "markdown",
   "metadata": {},
   "source": [
    "Как видно из графика, длительность ожидания входящих 75% звонков составляет примерно 25 секунд. Будем считать, что звонок, длительность времени ожидания ответа на который превышает 25 секунд, является поводом для отнесения оператора к неэффективным."
   ]
  },
  {
   "cell_type": "code",
   "execution_count": 159,
   "metadata": {
    "scrolled": false
   },
   "outputs": [],
   "source": [
    "long_expectation = telecom_dataset.query('direction == \"in\" and avg_expectation_duration > 25')\n",
    "\n",
    "telecom_dataset_by_operator_id = telecom_dataset.groupby('operator_id')['calls_count'].sum().reset_index()\n",
    "\n",
    "# сгруппируем полученную таблицу по операторам и по каждому оператору посчитаем количество звонков с длительностью ожидания\n",
    "# более 25 секунд:\n",
    "long_expectation_by_operator_id = (long_expectation.groupby(['user_id', 'operator_id'])['calls_count'].sum().reset_index())\n",
    "\n",
    "# объединим полученную сгруппированную таблицу с исходной таблицей, также сгруппированную по операторам:\n",
    "long_expectation_by_operator_id = (long_expectation_by_operator_id.merge(telecom_dataset_by_operator_id, on = 'operator_id')\n",
    "                                                                  .rename(columns={'calls_count_x':'calls_long_expectation',\n",
    "                                                                                   'calls_count_y':'total_calls'}))\n",
    "\n",
    "# посчитаем долю звонков с долгим временем ожидания в общем количестве звонков по каждому оператору:\n",
    "long_expectation_by_operator_id['expectation_share'] = ((long_expectation_by_operator_id['calls_long_expectation'] * 100 \n",
    "                                                         / long_expectation_by_operator_id['total_calls']).round(2))"
   ]
  },
  {
   "cell_type": "markdown",
   "metadata": {},
   "source": [
    "Рассмотрим диаграмму размаха доли звонков с долгим временем ожидания в общем количестве звонков по операторам:"
   ]
  },
  {
   "cell_type": "code",
   "execution_count": 160,
   "metadata": {},
   "outputs": [
    {
     "data": {
      "image/png": "[encoded data removed]",
      "text/plain": [
       "<Figure size 576x720 with 1 Axes>"
      ]
     },
     "metadata": {
      "needs_background": "light"
     },
     "output_type": "display_data"
    }
   ],
   "source": [
    "plt.figure(figsize=(8, 10))\n",
    "sns.boxplot(y=\"expectation_share\", data = long_expectation_by_operator_id)\n",
    "plt.title(\"Диаграмма размаха доли звонков с долгим временем ожидания в общем количестве звонков по операторам\")\n",
    "plt.ylabel(\"Доля звонков с долгим временем ожидания\")\n",
    "plt.show()"
   ]
  },
  {
   "cell_type": "code",
   "execution_count": 161,
   "metadata": {},
   "outputs": [
    {
     "data": {
      "text/plain": [
       "count    433.000000\n",
       "mean      20.746697\n",
       "std       26.462321\n",
       "min        0.050000\n",
       "25%        2.500000\n",
       "50%        9.750000\n",
       "75%       26.670000\n",
       "max      100.000000\n",
       "Name: expectation_share, dtype: float64"
      ]
     },
     "execution_count": 161,
     "metadata": {},
     "output_type": "execute_result"
    }
   ],
   "source": [
    "long_expectation_by_operator_id['expectation_share'].describe()"
   ]
  },
  {
   "cell_type": "markdown",
   "metadata": {},
   "source": [
    "Типичный оператор имеет долю звонков с долгим временем ожидания ответа на входящий звонок от 2.5% до 27,5%. Тогда, будем считать, что если у оператора более 27,5% звонков с длительностью ожидания ответа более 25 секунд в общем количестве звонков, то такой оператор - неэффективный"
   ]
  },
  {
   "cell_type": "code",
   "execution_count": 162,
   "metadata": {},
   "outputs": [
    {
     "data": {
      "text/html": [
       "<div>\n",
       "<style scoped>\n",
       "    .dataframe tbody tr th:only-of-type {\n",
       "        vertical-align: middle;\n",
       "    }\n",
       "\n",
       "    .dataframe tbody tr th {\n",
       "        vertical-align: top;\n",
       "    }\n",
       "\n",
       "    .dataframe thead th {\n",
       "        text-align: right;\n",
       "    }\n",
       "</style>\n",
       "<table border=\"1\" class=\"dataframe\">\n",
       "  <thead>\n",
       "    <tr style=\"text-align: right;\">\n",
       "      <th></th>\n",
       "      <th>user_id</th>\n",
       "      <th>operator_id</th>\n",
       "      <th>calls_long_expectation</th>\n",
       "      <th>total_calls</th>\n",
       "      <th>expectation_share</th>\n",
       "    </tr>\n",
       "  </thead>\n",
       "  <tbody>\n",
       "    <tr>\n",
       "      <td>198</td>\n",
       "      <td>167176</td>\n",
       "      <td>905478</td>\n",
       "      <td>1</td>\n",
       "      <td>1</td>\n",
       "      <td>100.00</td>\n",
       "    </tr>\n",
       "    <tr>\n",
       "      <td>370</td>\n",
       "      <td>168121</td>\n",
       "      <td>940508</td>\n",
       "      <td>2</td>\n",
       "      <td>2</td>\n",
       "      <td>100.00</td>\n",
       "    </tr>\n",
       "    <tr>\n",
       "      <td>329</td>\n",
       "      <td>167976</td>\n",
       "      <td>934432</td>\n",
       "      <td>4</td>\n",
       "      <td>4</td>\n",
       "      <td>100.00</td>\n",
       "    </tr>\n",
       "    <tr>\n",
       "      <td>138</td>\n",
       "      <td>166975</td>\n",
       "      <td>899898</td>\n",
       "      <td>1</td>\n",
       "      <td>1</td>\n",
       "      <td>100.00</td>\n",
       "    </tr>\n",
       "    <tr>\n",
       "      <td>77</td>\n",
       "      <td>166732</td>\n",
       "      <td>909624</td>\n",
       "      <td>3</td>\n",
       "      <td>3</td>\n",
       "      <td>100.00</td>\n",
       "    </tr>\n",
       "    <tr>\n",
       "      <td>...</td>\n",
       "      <td>...</td>\n",
       "      <td>...</td>\n",
       "      <td>...</td>\n",
       "      <td>...</td>\n",
       "      <td>...</td>\n",
       "    </tr>\n",
       "    <tr>\n",
       "      <td>168</td>\n",
       "      <td>167071</td>\n",
       "      <td>913938</td>\n",
       "      <td>319</td>\n",
       "      <td>1053</td>\n",
       "      <td>30.29</td>\n",
       "    </tr>\n",
       "    <tr>\n",
       "      <td>342</td>\n",
       "      <td>168008</td>\n",
       "      <td>948524</td>\n",
       "      <td>3</td>\n",
       "      <td>10</td>\n",
       "      <td>30.00</td>\n",
       "    </tr>\n",
       "    <tr>\n",
       "      <td>394</td>\n",
       "      <td>168193</td>\n",
       "      <td>947816</td>\n",
       "      <td>19</td>\n",
       "      <td>66</td>\n",
       "      <td>28.79</td>\n",
       "    </tr>\n",
       "    <tr>\n",
       "      <td>112</td>\n",
       "      <td>166908</td>\n",
       "      <td>895786</td>\n",
       "      <td>14</td>\n",
       "      <td>49</td>\n",
       "      <td>28.57</td>\n",
       "    </tr>\n",
       "    <tr>\n",
       "      <td>170</td>\n",
       "      <td>167079</td>\n",
       "      <td>904058</td>\n",
       "      <td>9</td>\n",
       "      <td>32</td>\n",
       "      <td>28.12</td>\n",
       "    </tr>\n",
       "  </tbody>\n",
       "</table>\n",
       "<p>105 rows × 5 columns</p>\n",
       "</div>"
      ],
      "text/plain": [
       "     user_id  operator_id  calls_long_expectation  total_calls  \\\n",
       "198   167176       905478                       1            1   \n",
       "370   168121       940508                       2            2   \n",
       "329   167976       934432                       4            4   \n",
       "138   166975       899898                       1            1   \n",
       "77    166732       909624                       3            3   \n",
       "..       ...          ...                     ...          ...   \n",
       "168   167071       913938                     319         1053   \n",
       "342   168008       948524                       3           10   \n",
       "394   168193       947816                      19           66   \n",
       "112   166908       895786                      14           49   \n",
       "170   167079       904058                       9           32   \n",
       "\n",
       "     expectation_share  \n",
       "198             100.00  \n",
       "370             100.00  \n",
       "329             100.00  \n",
       "138             100.00  \n",
       "77              100.00  \n",
       "..                 ...  \n",
       "168              30.29  \n",
       "342              30.00  \n",
       "394              28.79  \n",
       "112              28.57  \n",
       "170              28.12  \n",
       "\n",
       "[105 rows x 5 columns]"
      ]
     },
     "execution_count": 162,
     "metadata": {},
     "output_type": "execute_result"
    }
   ],
   "source": [
    "ineffective_by_expectation = (long_expectation_by_operator_id.query('expectation_share > 27.5')\n",
    "                                                            .sort_values(by = 'expectation_share', ascending = False))\n",
    "ineffective_by_expectation"
   ]
  },
  {
   "cell_type": "code",
   "execution_count": 163,
   "metadata": {},
   "outputs": [
    {
     "data": {
      "image/png": "[encoded data removed]",
      "text/plain": [
       "<Figure size 1080x576 with 1 Axes>"
      ]
     },
     "metadata": {
      "needs_background": "light"
     },
     "output_type": "display_data"
    }
   ],
   "source": [
    "plt.figure(figsize=(15, 8))\n",
    "sns.distplot(ineffective_by_expectation['expectation_share'])\n",
    "plt.title('Доля звонков с долгой длительностью ожидания неэффективных операторов', size=12)\n",
    "plt.xlabel(\"Доля звонков\")\n",
    "plt.ylabel(\"Частота значения\")\n",
    "plt.show()"
   ]
  },
  {
   "cell_type": "markdown",
   "metadata": {},
   "source": [
    "В итоговую таблицу неэффективных операторов по длительности ожидания ответа на звонок попало 105 операторов с процентом звонков с долгим ожиданием ответа от 27,5 до 100. Основная масса таких операторов имеет небольшой процент звонков с длительным ожиданием - 27,5-70%%. Достаточно много операторов с долей звонков с долгим ожиданием от 90% до 100% - скорее всего это новые неопытные операторы.\n",
    "\n",
    "Рассмотрим строки с пропущенными входящими звонками: <a id=\"много_пропущенных\"></a>"
   ]
  },
  {
   "cell_type": "code",
   "execution_count": 164,
   "metadata": {},
   "outputs": [],
   "source": [
    "is_missed_incoming = telecom_dataset[(telecom_dataset['direction'] == \"in\") & (telecom_dataset['is_missed_call'] == True)]\n",
    "\n",
    "# сгруппируем полученную таблицу по операторам и посчитаем по каждому количество пропущенных звонков:\n",
    "is_missed_incoming_by_operator_id = (is_missed_incoming.groupby('operator_id')['calls_count'].sum().reset_index())\n",
    "\n",
    "# объединим полученную сгруппированную таблицу с исходной таблицей, также сгруппированную по операторам:\n",
    "is_missed_incoming_by_operator_id = (is_missed_incoming_by_operator_id.merge(telecom_dataset_by_operator_id, on = 'operator_id')\n",
    "                                                                      .rename(columns={'calls_count_x':'count_missing_calls',\n",
    "                                                                                       'calls_count_y':'total_calls'}))\n",
    "\n",
    "# посчитаем долю пропущенных звонков в лбщем количестве звонков по каждому оператору:\n",
    "is_missed_incoming_by_operator_id['share_missing_calls'] = ((is_missed_incoming_by_operator_id['count_missing_calls'] * 100 \n",
    "                                                             / is_missed_incoming_by_operator_id['total_calls']).round(2))"
   ]
  },
  {
   "cell_type": "code",
   "execution_count": 165,
   "metadata": {},
   "outputs": [
    {
     "data": {
      "image/png": "[encoded data removed]",
      "text/plain": [
       "<Figure size 576x720 with 1 Axes>"
      ]
     },
     "metadata": {
      "needs_background": "light"
     },
     "output_type": "display_data"
    }
   ],
   "source": [
    "plt.figure(figsize=(8, 10))\n",
    "sns.boxplot(y=\"share_missing_calls\", data = is_missed_incoming_by_operator_id)\n",
    "plt.title(\"Диаграмма размаха доли пропущенных звонков в общем количестве звонков по операторам\")\n",
    "plt.ylabel(\"Доля пропущенных звонков\")\n",
    "plt.show()"
   ]
  },
  {
   "cell_type": "code",
   "execution_count": 166,
   "metadata": {},
   "outputs": [
    {
     "data": {
      "text/plain": [
       "count    352.000000\n",
       "mean      24.487585\n",
       "std       24.268497\n",
       "min        0.050000\n",
       "25%        4.275000\n",
       "50%       16.980000\n",
       "75%       37.700000\n",
       "max      100.000000\n",
       "Name: share_missing_calls, dtype: float64"
      ]
     },
     "execution_count": 166,
     "metadata": {},
     "output_type": "execute_result"
    }
   ],
   "source": [
    "is_missed_incoming_by_operator_id['share_missing_calls'].describe()"
   ]
  },
  {
   "cell_type": "markdown",
   "metadata": {},
   "source": [
    "В среднем доля входящих пропущенных звонков у операторов находится в диапазоне от 4% до 38%. Будем считать, что при превышении этого порога - 38%, оператора можно признать неэффективным по признаку большого количества пропущенных звонков."
   ]
  },
  {
   "cell_type": "code",
   "execution_count": 167,
   "metadata": {
    "scrolled": false
   },
   "outputs": [
    {
     "data": {
      "text/html": [
       "<div>\n",
       "<style scoped>\n",
       "    .dataframe tbody tr th:only-of-type {\n",
       "        vertical-align: middle;\n",
       "    }\n",
       "\n",
       "    .dataframe tbody tr th {\n",
       "        vertical-align: top;\n",
       "    }\n",
       "\n",
       "    .dataframe thead th {\n",
       "        text-align: right;\n",
       "    }\n",
       "</style>\n",
       "<table border=\"1\" class=\"dataframe\">\n",
       "  <thead>\n",
       "    <tr style=\"text-align: right;\">\n",
       "      <th></th>\n",
       "      <th>operator_id</th>\n",
       "      <th>count_missing_calls</th>\n",
       "      <th>total_calls</th>\n",
       "      <th>share_missing_calls</th>\n",
       "    </tr>\n",
       "  </thead>\n",
       "  <tbody>\n",
       "    <tr>\n",
       "      <td>344</td>\n",
       "      <td>964518</td>\n",
       "      <td>4</td>\n",
       "      <td>4</td>\n",
       "      <td>100.00</td>\n",
       "    </tr>\n",
       "    <tr>\n",
       "      <td>298</td>\n",
       "      <td>944908</td>\n",
       "      <td>4</td>\n",
       "      <td>4</td>\n",
       "      <td>100.00</td>\n",
       "    </tr>\n",
       "    <tr>\n",
       "      <td>322</td>\n",
       "      <td>952734</td>\n",
       "      <td>1</td>\n",
       "      <td>1</td>\n",
       "      <td>100.00</td>\n",
       "    </tr>\n",
       "    <tr>\n",
       "      <td>326</td>\n",
       "      <td>952982</td>\n",
       "      <td>16</td>\n",
       "      <td>16</td>\n",
       "      <td>100.00</td>\n",
       "    </tr>\n",
       "    <tr>\n",
       "      <td>321</td>\n",
       "      <td>952678</td>\n",
       "      <td>95</td>\n",
       "      <td>96</td>\n",
       "      <td>98.96</td>\n",
       "    </tr>\n",
       "    <tr>\n",
       "      <td>...</td>\n",
       "      <td>...</td>\n",
       "      <td>...</td>\n",
       "      <td>...</td>\n",
       "      <td>...</td>\n",
       "    </tr>\n",
       "    <tr>\n",
       "      <td>201</td>\n",
       "      <td>927142</td>\n",
       "      <td>2</td>\n",
       "      <td>5</td>\n",
       "      <td>40.00</td>\n",
       "    </tr>\n",
       "    <tr>\n",
       "      <td>169</td>\n",
       "      <td>919792</td>\n",
       "      <td>486</td>\n",
       "      <td>1233</td>\n",
       "      <td>39.42</td>\n",
       "    </tr>\n",
       "    <tr>\n",
       "      <td>264</td>\n",
       "      <td>938432</td>\n",
       "      <td>5</td>\n",
       "      <td>13</td>\n",
       "      <td>38.46</td>\n",
       "    </tr>\n",
       "    <tr>\n",
       "      <td>74</td>\n",
       "      <td>900614</td>\n",
       "      <td>35</td>\n",
       "      <td>91</td>\n",
       "      <td>38.46</td>\n",
       "    </tr>\n",
       "    <tr>\n",
       "      <td>197</td>\n",
       "      <td>926184</td>\n",
       "      <td>36</td>\n",
       "      <td>94</td>\n",
       "      <td>38.30</td>\n",
       "    </tr>\n",
       "  </tbody>\n",
       "</table>\n",
       "<p>88 rows × 4 columns</p>\n",
       "</div>"
      ],
      "text/plain": [
       "     operator_id  count_missing_calls  total_calls  share_missing_calls\n",
       "344       964518                    4            4               100.00\n",
       "298       944908                    4            4               100.00\n",
       "322       952734                    1            1               100.00\n",
       "326       952982                   16           16               100.00\n",
       "321       952678                   95           96                98.96\n",
       "..           ...                  ...          ...                  ...\n",
       "201       927142                    2            5                40.00\n",
       "169       919792                  486         1233                39.42\n",
       "264       938432                    5           13                38.46\n",
       "74        900614                   35           91                38.46\n",
       "197       926184                   36           94                38.30\n",
       "\n",
       "[88 rows x 4 columns]"
      ]
     },
     "execution_count": 167,
     "metadata": {},
     "output_type": "execute_result"
    }
   ],
   "source": [
    "ineffective_by_missing = (is_missed_incoming_by_operator_id.query('share_missing_calls > 38')\n",
    "                                                          .sort_values(by = 'share_missing_calls', ascending = False))\n",
    "ineffective_by_missing"
   ]
  },
  {
   "cell_type": "code",
   "execution_count": 168,
   "metadata": {},
   "outputs": [
    {
     "data": {
      "image/png": "[encoded data removed]",
      "text/plain": [
       "<Figure size 1080x576 with 1 Axes>"
      ]
     },
     "metadata": {
      "needs_background": "light"
     },
     "output_type": "display_data"
    }
   ],
   "source": [
    "plt.figure(figsize=(15, 8))\n",
    "sns.distplot(ineffective_by_missing['share_missing_calls'])\n",
    "plt.title('Доля пропущенных входящих звонков неэффективных операторов', size=12)\n",
    "plt.xlabel(\"Доля звонков\")\n",
    "plt.ylabel(\"Частота значения\")\n",
    "plt.show()"
   ]
  },
  {
   "cell_type": "markdown",
   "metadata": {},
   "source": [
    "В итоговую таблицу неэффективных операторов по количеству пропущенных входящих звонков попало 88 операторов с долей пропущенных звонков от 38% до 100%. Основная масса таких операторов с долей пропущенных звонков 38% - 70%.\n",
    "\n",
    "Рассмотрим операторов, которые одновременно попали и в таблицу с долгим ожиданием ответа на звонок и в таблицу с большим количество пропущенных звонков. Для этого объединим таблицы:\n",
    "<a id=\"неэффективные\"></a>"
   ]
  },
  {
   "cell_type": "code",
   "execution_count": 169,
   "metadata": {},
   "outputs": [
    {
     "data": {
      "text/html": [
       "<div>\n",
       "<style scoped>\n",
       "    .dataframe tbody tr th:only-of-type {\n",
       "        vertical-align: middle;\n",
       "    }\n",
       "\n",
       "    .dataframe tbody tr th {\n",
       "        vertical-align: top;\n",
       "    }\n",
       "\n",
       "    .dataframe thead th {\n",
       "        text-align: right;\n",
       "    }\n",
       "</style>\n",
       "<table border=\"1\" class=\"dataframe\">\n",
       "  <thead>\n",
       "    <tr style=\"text-align: right;\">\n",
       "      <th></th>\n",
       "      <th>operator_id</th>\n",
       "      <th>expectation_share</th>\n",
       "      <th>share_missing_calls</th>\n",
       "    </tr>\n",
       "  </thead>\n",
       "  <tbody>\n",
       "    <tr>\n",
       "      <td>0</td>\n",
       "      <td>970254</td>\n",
       "      <td>76.67</td>\n",
       "      <td>66.67</td>\n",
       "    </tr>\n",
       "    <tr>\n",
       "      <td>1</td>\n",
       "      <td>919792</td>\n",
       "      <td>66.18</td>\n",
       "      <td>39.42</td>\n",
       "    </tr>\n",
       "    <tr>\n",
       "      <td>2</td>\n",
       "      <td>901350</td>\n",
       "      <td>61.51</td>\n",
       "      <td>66.91</td>\n",
       "    </tr>\n",
       "    <tr>\n",
       "      <td>3</td>\n",
       "      <td>891906</td>\n",
       "      <td>55.32</td>\n",
       "      <td>42.55</td>\n",
       "    </tr>\n",
       "    <tr>\n",
       "      <td>4</td>\n",
       "      <td>934430</td>\n",
       "      <td>52.63</td>\n",
       "      <td>44.74</td>\n",
       "    </tr>\n",
       "    <tr>\n",
       "      <td>5</td>\n",
       "      <td>962062</td>\n",
       "      <td>51.52</td>\n",
       "      <td>54.55</td>\n",
       "    </tr>\n",
       "    <tr>\n",
       "      <td>6</td>\n",
       "      <td>950640</td>\n",
       "      <td>50.00</td>\n",
       "      <td>50.00</td>\n",
       "    </tr>\n",
       "    <tr>\n",
       "      <td>7</td>\n",
       "      <td>953952</td>\n",
       "      <td>42.86</td>\n",
       "      <td>50.00</td>\n",
       "    </tr>\n",
       "    <tr>\n",
       "      <td>8</td>\n",
       "      <td>882478</td>\n",
       "      <td>42.86</td>\n",
       "      <td>85.71</td>\n",
       "    </tr>\n",
       "    <tr>\n",
       "      <td>9</td>\n",
       "      <td>918888</td>\n",
       "      <td>40.74</td>\n",
       "      <td>66.67</td>\n",
       "    </tr>\n",
       "    <tr>\n",
       "      <td>10</td>\n",
       "      <td>899932</td>\n",
       "      <td>39.69</td>\n",
       "      <td>41.04</td>\n",
       "    </tr>\n",
       "    <tr>\n",
       "      <td>11</td>\n",
       "      <td>902744</td>\n",
       "      <td>38.07</td>\n",
       "      <td>45.71</td>\n",
       "    </tr>\n",
       "    <tr>\n",
       "      <td>12</td>\n",
       "      <td>886674</td>\n",
       "      <td>37.50</td>\n",
       "      <td>62.50</td>\n",
       "    </tr>\n",
       "    <tr>\n",
       "      <td>13</td>\n",
       "      <td>920852</td>\n",
       "      <td>35.61</td>\n",
       "      <td>53.12</td>\n",
       "    </tr>\n",
       "    <tr>\n",
       "      <td>14</td>\n",
       "      <td>895170</td>\n",
       "      <td>33.33</td>\n",
       "      <td>62.96</td>\n",
       "    </tr>\n",
       "    <tr>\n",
       "      <td>15</td>\n",
       "      <td>933986</td>\n",
       "      <td>33.33</td>\n",
       "      <td>43.59</td>\n",
       "    </tr>\n",
       "    <tr>\n",
       "      <td>16</td>\n",
       "      <td>945052</td>\n",
       "      <td>32.39</td>\n",
       "      <td>49.30</td>\n",
       "    </tr>\n",
       "    <tr>\n",
       "      <td>17</td>\n",
       "      <td>946582</td>\n",
       "      <td>31.08</td>\n",
       "      <td>41.89</td>\n",
       "    </tr>\n",
       "    <tr>\n",
       "      <td>18</td>\n",
       "      <td>913938</td>\n",
       "      <td>30.29</td>\n",
       "      <td>46.82</td>\n",
       "    </tr>\n",
       "    <tr>\n",
       "      <td>19</td>\n",
       "      <td>948524</td>\n",
       "      <td>30.00</td>\n",
       "      <td>60.00</td>\n",
       "    </tr>\n",
       "    <tr>\n",
       "      <td>20</td>\n",
       "      <td>947816</td>\n",
       "      <td>28.79</td>\n",
       "      <td>43.94</td>\n",
       "    </tr>\n",
       "    <tr>\n",
       "      <td>21</td>\n",
       "      <td>904058</td>\n",
       "      <td>28.12</td>\n",
       "      <td>40.62</td>\n",
       "    </tr>\n",
       "  </tbody>\n",
       "</table>\n",
       "</div>"
      ],
      "text/plain": [
       "    operator_id  expectation_share  share_missing_calls\n",
       "0        970254              76.67                66.67\n",
       "1        919792              66.18                39.42\n",
       "2        901350              61.51                66.91\n",
       "3        891906              55.32                42.55\n",
       "4        934430              52.63                44.74\n",
       "5        962062              51.52                54.55\n",
       "6        950640              50.00                50.00\n",
       "7        953952              42.86                50.00\n",
       "8        882478              42.86                85.71\n",
       "9        918888              40.74                66.67\n",
       "10       899932              39.69                41.04\n",
       "11       902744              38.07                45.71\n",
       "12       886674              37.50                62.50\n",
       "13       920852              35.61                53.12\n",
       "14       895170              33.33                62.96\n",
       "15       933986              33.33                43.59\n",
       "16       945052              32.39                49.30\n",
       "17       946582              31.08                41.89\n",
       "18       913938              30.29                46.82\n",
       "19       948524              30.00                60.00\n",
       "20       947816              28.79                43.94\n",
       "21       904058              28.12                40.62"
      ]
     },
     "execution_count": 169,
     "metadata": {},
     "output_type": "execute_result"
    }
   ],
   "source": [
    "ineffective = (ineffective_by_expectation.merge(ineffective_by_missing, on = 'operator_id'))[['operator_id', 'expectation_share', 'share_missing_calls']]\n",
    "\n",
    "ineffective"
   ]
  },
  {
   "cell_type": "markdown",
   "metadata": {},
   "source": [
    "В итоговую таблицу с неэффективными операторами по двум признакам попали 22 оператора. Нужно рассмотреть каких клиентов обслуживают эти операторы. Запишем их id в переменную:\n",
    "<a id=\"клиенты_с_неэффективными\"></a>"
   ]
  },
  {
   "cell_type": "code",
   "execution_count": 170,
   "metadata": {},
   "outputs": [
    {
     "data": {
      "text/html": [
       "<div>\n",
       "<style scoped>\n",
       "    .dataframe tbody tr th:only-of-type {\n",
       "        vertical-align: middle;\n",
       "    }\n",
       "\n",
       "    .dataframe tbody tr th {\n",
       "        vertical-align: top;\n",
       "    }\n",
       "\n",
       "    .dataframe thead th {\n",
       "        text-align: right;\n",
       "    }\n",
       "</style>\n",
       "<table border=\"1\" class=\"dataframe\">\n",
       "  <thead>\n",
       "    <tr style=\"text-align: right;\">\n",
       "      <th></th>\n",
       "      <th>user_id</th>\n",
       "      <th>operator_id</th>\n",
       "      <th>inefcalls_count</th>\n",
       "      <th>total_calls</th>\n",
       "      <th>ineff_share</th>\n",
       "    </tr>\n",
       "  </thead>\n",
       "  <tbody>\n",
       "    <tr>\n",
       "      <td>3</td>\n",
       "      <td>167125</td>\n",
       "      <td>902744</td>\n",
       "      <td>746</td>\n",
       "      <td>3447</td>\n",
       "      <td>21.64</td>\n",
       "    </tr>\n",
       "    <tr>\n",
       "      <td>2</td>\n",
       "      <td>167445</td>\n",
       "      <td>920852</td>\n",
       "      <td>994</td>\n",
       "      <td>2823</td>\n",
       "      <td>35.21</td>\n",
       "    </tr>\n",
       "    <tr>\n",
       "      <td>0</td>\n",
       "      <td>167521</td>\n",
       "      <td>919792</td>\n",
       "      <td>1233</td>\n",
       "      <td>2245</td>\n",
       "      <td>54.92</td>\n",
       "    </tr>\n",
       "    <tr>\n",
       "      <td>4</td>\n",
       "      <td>167011</td>\n",
       "      <td>899932</td>\n",
       "      <td>519</td>\n",
       "      <td>2077</td>\n",
       "      <td>24.99</td>\n",
       "    </tr>\n",
       "    <tr>\n",
       "      <td>1</td>\n",
       "      <td>167071</td>\n",
       "      <td>913938</td>\n",
       "      <td>1053</td>\n",
       "      <td>1863</td>\n",
       "      <td>56.52</td>\n",
       "    </tr>\n",
       "    <tr>\n",
       "      <td>5</td>\n",
       "      <td>166836</td>\n",
       "      <td>901350</td>\n",
       "      <td>278</td>\n",
       "      <td>278</td>\n",
       "      <td>100.00</td>\n",
       "    </tr>\n",
       "    <tr>\n",
       "      <td>6</td>\n",
       "      <td>168307</td>\n",
       "      <td>945052</td>\n",
       "      <td>142</td>\n",
       "      <td>232</td>\n",
       "      <td>61.21</td>\n",
       "    </tr>\n",
       "    <tr>\n",
       "      <td>9</td>\n",
       "      <td>168193</td>\n",
       "      <td>947816</td>\n",
       "      <td>66</td>\n",
       "      <td>194</td>\n",
       "      <td>34.02</td>\n",
       "    </tr>\n",
       "    <tr>\n",
       "      <td>7</td>\n",
       "      <td>166392</td>\n",
       "      <td>891906</td>\n",
       "      <td>94</td>\n",
       "      <td>126</td>\n",
       "      <td>74.60</td>\n",
       "    </tr>\n",
       "    <tr>\n",
       "      <td>8</td>\n",
       "      <td>167969</td>\n",
       "      <td>946582</td>\n",
       "      <td>74</td>\n",
       "      <td>103</td>\n",
       "      <td>71.84</td>\n",
       "    </tr>\n",
       "    <tr>\n",
       "      <td>11</td>\n",
       "      <td>167976</td>\n",
       "      <td>934430</td>\n",
       "      <td>38</td>\n",
       "      <td>80</td>\n",
       "      <td>47.50</td>\n",
       "    </tr>\n",
       "    <tr>\n",
       "      <td>10</td>\n",
       "      <td>167994</td>\n",
       "      <td>933986</td>\n",
       "      <td>39</td>\n",
       "      <td>63</td>\n",
       "      <td>61.90</td>\n",
       "    </tr>\n",
       "    <tr>\n",
       "      <td>14</td>\n",
       "      <td>168225</td>\n",
       "      <td>970254</td>\n",
       "      <td>30</td>\n",
       "      <td>52</td>\n",
       "      <td>57.69</td>\n",
       "    </tr>\n",
       "    <tr>\n",
       "      <td>12</td>\n",
       "      <td>168583</td>\n",
       "      <td>962062</td>\n",
       "      <td>33</td>\n",
       "      <td>38</td>\n",
       "      <td>86.84</td>\n",
       "    </tr>\n",
       "    <tr>\n",
       "      <td>13</td>\n",
       "      <td>167079</td>\n",
       "      <td>904058</td>\n",
       "      <td>32</td>\n",
       "      <td>32</td>\n",
       "      <td>100.00</td>\n",
       "    </tr>\n",
       "    <tr>\n",
       "      <td>15</td>\n",
       "      <td>167621</td>\n",
       "      <td>918888</td>\n",
       "      <td>27</td>\n",
       "      <td>27</td>\n",
       "      <td>100.00</td>\n",
       "    </tr>\n",
       "    <tr>\n",
       "      <td>16</td>\n",
       "      <td>166727</td>\n",
       "      <td>895170</td>\n",
       "      <td>27</td>\n",
       "      <td>27</td>\n",
       "      <td>100.00</td>\n",
       "    </tr>\n",
       "    <tr>\n",
       "      <td>20</td>\n",
       "      <td>168008</td>\n",
       "      <td>948524</td>\n",
       "      <td>10</td>\n",
       "      <td>18</td>\n",
       "      <td>55.56</td>\n",
       "    </tr>\n",
       "    <tr>\n",
       "      <td>17</td>\n",
       "      <td>166399</td>\n",
       "      <td>886674</td>\n",
       "      <td>16</td>\n",
       "      <td>16</td>\n",
       "      <td>100.00</td>\n",
       "    </tr>\n",
       "    <tr>\n",
       "      <td>18</td>\n",
       "      <td>168575</td>\n",
       "      <td>953952</td>\n",
       "      <td>14</td>\n",
       "      <td>15</td>\n",
       "      <td>93.33</td>\n",
       "    </tr>\n",
       "    <tr>\n",
       "      <td>19</td>\n",
       "      <td>166391</td>\n",
       "      <td>882478</td>\n",
       "      <td>14</td>\n",
       "      <td>15</td>\n",
       "      <td>93.33</td>\n",
       "    </tr>\n",
       "    <tr>\n",
       "      <td>21</td>\n",
       "      <td>167139</td>\n",
       "      <td>950640</td>\n",
       "      <td>2</td>\n",
       "      <td>2</td>\n",
       "      <td>100.00</td>\n",
       "    </tr>\n",
       "  </tbody>\n",
       "</table>\n",
       "</div>"
      ],
      "text/plain": [
       "    user_id  operator_id  inefcalls_count  total_calls  ineff_share\n",
       "3    167125       902744              746         3447        21.64\n",
       "2    167445       920852              994         2823        35.21\n",
       "0    167521       919792             1233         2245        54.92\n",
       "4    167011       899932              519         2077        24.99\n",
       "1    167071       913938             1053         1863        56.52\n",
       "5    166836       901350              278          278       100.00\n",
       "6    168307       945052              142          232        61.21\n",
       "9    168193       947816               66          194        34.02\n",
       "7    166392       891906               94          126        74.60\n",
       "8    167969       946582               74          103        71.84\n",
       "11   167976       934430               38           80        47.50\n",
       "10   167994       933986               39           63        61.90\n",
       "14   168225       970254               30           52        57.69\n",
       "12   168583       962062               33           38        86.84\n",
       "13   167079       904058               32           32       100.00\n",
       "15   167621       918888               27           27       100.00\n",
       "16   166727       895170               27           27       100.00\n",
       "20   168008       948524               10           18        55.56\n",
       "17   166399       886674               16           16       100.00\n",
       "18   168575       953952               14           15        93.33\n",
       "19   166391       882478               14           15        93.33\n",
       "21   167139       950640                2            2       100.00"
      ]
     },
     "execution_count": 170,
     "metadata": {},
     "output_type": "execute_result"
    }
   ],
   "source": [
    "ineffective_operators_id = ineffective['operator_id']\n",
    "\n",
    "# и выберем клиентов, которых обслуживают неэффективные операторы:\n",
    "user_id_ineff_op = (telecom_dataset.query('operator_id in @ineffective_operators_id')\n",
    "                                   .pivot_table(index = ['user_id', 'operator_id'], values = 'calls_count', aggfunc = 'sum')\n",
    "                                   .reset_index().sort_values(by = 'calls_count', ascending = False))\n",
    "         \n",
    "# объединим полученную таблицу с таблицей telecom_dataset, сгруппированной по клиентам и с подсчитанной суммой всех звонков:\n",
    "finish_user_id = (user_id_ineff_op.merge(telecom_dataset.groupby('user_id')['calls_count'].sum().reset_index(), on = 'user_id')\n",
    "                                  .rename(columns={'calls_count_x':'inefcalls_count',\n",
    "                                                  'calls_count_y':'total_calls'}))\n",
    "# доля звонков, обслуженных неэффективными операторами:\n",
    "finish_user_id['ineff_share'] = (finish_user_id['inefcalls_count'] *100 / finish_user_id['total_calls']).round(2)\n",
    "finish_user_id.sort_values(by = 'total_calls', ascending = False)"
   ]
  },
  {
   "cell_type": "markdown",
   "metadata": {},
   "source": [
    "### Вывод </font> <a id=\"вывод_определение\"></a>\n",
    "\n",
    "В ходе этого этапа были выявлены 22 неэффективный оператор. Они пропускают много звонков и время ожидания ответа на звонок превышает 25 секунд. Так же были выявлены клиенты, обслуживаемые этими операторами.\n",
    "Прежде всего, функция определения неэффективных операторов будет интересна клиентам, у которых много звонков, на момент исследования это клиенты с id 167125, 167445, 167521, 167011, 167071. Также это будет интересно новым клиентам, т.к. поможет на раннем этапе оптимиировать расходы на телефонию.\n",
    "\n",
    "### <font color=olive>Проверка гипотез</font> <a id=\"гипотезы\"></a>\n",
    "\n",
    "Проверим гипотезу, что среднее время ожидания ответа на входящий принятый звонок между операторами клиента отличается от среднего времени ожидания ответа на принятый входящий звонок клиента:\n",
    "\n",
    "Нулевая гипотеза: \n",
    "\n",
    "H0 — среднее время ожидания ответа на принятый входящий звонок между операторами клиента равно среднему времени ожидания ответа на принятый входящий звонок клиента;\n",
    "\n",
    "\n",
    "альтернативная гипотеза:\n",
    "\n",
    "H1 — среднее время ожидания ответа на входящий принятый звонок между операторами клиента не равно среднему времени ожидания ответа на входящий принятый звонок клиента.\n",
    "\n",
    "Уровень значимости возьмем 0.05, если p-value окажется меньше него - отвергнем нулевую гипотезу.\n",
    "\n",
    "Чтобы проверить гипотезу о равенстве среднего двух генеральных совокупностей по взятым из них выборкам, применяется метод scipy.stats.ttest_ind:"
   ]
  },
  {
   "cell_type": "code",
   "execution_count": 171,
   "metadata": {},
   "outputs": [
    {
     "name": "stdout",
     "output_type": "stream",
     "text": [
      "p-значение: 6.839625920922113e-08\n",
      "Отвергаем нулевую гипотезу\n"
     ]
    }
   ],
   "source": [
    "alpha = 0.05\n",
    "\n",
    "results = st.ttest_ind(\n",
    "    telecom_dataset.query('direction == \"in\" and is_missed_call == False and internal == True')['avg_expectation_duration'], \n",
    "    telecom_dataset.query('direction == \"in\" and is_missed_call == False and internal == False')['avg_expectation_duration'], equal_var = False)\n",
    "\n",
    "print('p-значение:', results.pvalue)\n",
    "\n",
    "if (results.pvalue < alpha):\n",
    "    print(\"Отвергаем нулевую гипотезу\")\n",
    "else:\n",
    "    print(\"Не получилось отвергнуть нулевую гипотезу\")"
   ]
  },
  {
   "cell_type": "code",
   "execution_count": 172,
   "metadata": {},
   "outputs": [
    {
     "data": {
      "text/plain": [
       "10.785"
      ]
     },
     "execution_count": 172,
     "metadata": {},
     "output_type": "execute_result"
    }
   ],
   "source": [
    "telecom_dataset.query('direction == \"in\" and is_missed_call == False and internal == True')['avg_expectation_duration'].median()"
   ]
  },
  {
   "cell_type": "markdown",
   "metadata": {},
   "source": [
    "Среднее время ожидания ответа на принятый входящий вызов между операторами составляет 11 секунд."
   ]
  },
  {
   "cell_type": "code",
   "execution_count": 173,
   "metadata": {},
   "outputs": [
    {
     "data": {
      "text/plain": [
       "13.5"
      ]
     },
     "execution_count": 173,
     "metadata": {},
     "output_type": "execute_result"
    }
   ],
   "source": [
    "telecom_dataset.query('direction == \"in\" and is_missed_call == False and internal == False')['avg_expectation_duration'].median()"
   ]
  },
  {
   "cell_type": "markdown",
   "metadata": {},
   "source": [
    "Среднее время ожидания ответа на принятый входящий вызов клиента составляет 13,5 секунд. Проверка гипотезы о различии этих значений показала, что они отличаются статистически значимо, не смотря на небольшое различие при прямом счете.\n",
    "\n",
    "\n",
    "\n",
    "Проверим гипотезу, что среднее время ожидания ответа на входящий пропущенный звонок между операторами клиента отличается от среднего времени ожидания ответа на пропущенный входящий звонок клиента:\n",
    "\n",
    "Нулевая гипотеза: \n",
    "\n",
    "H0 — среднее время ожидания ответа на пропущенный входящий звонок между операторами клиента равно среднему времени ожидания ответа на пропущенный входящий звонок клиента;\n",
    "\n",
    "\n",
    "альтернативная гипотеза:\n",
    "\n",
    "H1 — среднее время ожидания ответа на входящий пропущенный звонок между операторами клиента не равно среднему времени ожидания ответа на входящий пропущенный звонок клиента."
   ]
  },
  {
   "cell_type": "code",
   "execution_count": 174,
   "metadata": {},
   "outputs": [
    {
     "name": "stdout",
     "output_type": "stream",
     "text": [
      "p-значение: 0.00010735237530475526\n",
      "Отвергаем нулевую гипотезу\n"
     ]
    }
   ],
   "source": [
    "alpha = 0.05\n",
    "\n",
    "results = st.ttest_ind(\n",
    "    telecom_dataset.query('direction == \"in\" and is_missed_call == True and internal == True')['avg_expectation_duration'], \n",
    "    telecom_dataset.query('direction == \"in\" and is_missed_call == True and internal == False')['avg_expectation_duration'], equal_var = False)\n",
    "\n",
    "print('p-значение:', results.pvalue)\n",
    "\n",
    "if (results.pvalue < alpha):\n",
    "    print(\"Отвергаем нулевую гипотезу\")\n",
    "else:\n",
    "    print(\"Не получилось отвергнуть нулевую гипотезу\")"
   ]
  },
  {
   "cell_type": "code",
   "execution_count": 175,
   "metadata": {},
   "outputs": [
    {
     "data": {
      "text/plain": [
       "15.0"
      ]
     },
     "execution_count": 175,
     "metadata": {},
     "output_type": "execute_result"
    }
   ],
   "source": [
    "telecom_dataset.query('direction == \"in\" and is_missed_call == True and internal == True')['avg_expectation_duration'].median()"
   ]
  },
  {
   "cell_type": "markdown",
   "metadata": {},
   "source": [
    "Среднее время ожидания ответа на входящий пропущенный звонок между операторами клиента составляет 15 секунд."
   ]
  },
  {
   "cell_type": "code",
   "execution_count": 176,
   "metadata": {},
   "outputs": [
    {
     "data": {
      "text/plain": [
       "18.635"
      ]
     },
     "execution_count": 176,
     "metadata": {},
     "output_type": "execute_result"
    }
   ],
   "source": [
    "telecom_dataset.query('direction == \"in\" and is_missed_call == True and internal == False')['avg_expectation_duration'].median()"
   ]
  },
  {
   "cell_type": "markdown",
   "metadata": {},
   "source": [
    "Среднее время ожидания ответа на входящий пропущенный звонок клиента составляет 18,635 секунд. И эти показатели статистически различны.\n",
    "\n",
    "### Общий вывод </font> <a id=\"вывод\"></a>\n",
    "\n",
    "В ходе предобработки были\n",
    "\n",
    "заменены типы данных столбцов, содержащих дату, на корректный;\n",
    "заполнены пропущенные значения столбца operator_id;\n",
    "удалены строки (всего 117) с пропущенными значениями столбца internal;\n",
    "удалены дублирующие строки (4 895);\n",
    "добавлены столбцы с длительностью ожидания ответа на звонок, со средней длительностью 1 звонка без и с учетом времени ожидания и время ожидания ответа на 1 звонок.\n",
    "\n",
    "В ходе исследовательского анализа были выявлены и исключены из дальнейшего анализа аномалии в столбцах содержащих данные о количестве пропущенных звонков и о длительности ожидания ответа на звонок.\n",
    "\n",
    "В ходе этого этапа были выявлены 22 неэффективных оператора. Они пропускают много звонков и время ожидания ответа на звонок превышает 25 секунд. Так же были выявлены клиенты, обслуживаемые этими операторами. Прежде всего, функция определения неэффективных операторов будет интересна клиентам, у которых много звонков, на момент исследования это клиенты с id 167125, 167445, 167521, 167011, 167071. Также это будет интересно новым клиентам, т.к. поможет на раннем этапе оптимиировать расходы на телефонию.\n"
   ]
  },
  {
   "cell_type": "markdown",
   "metadata": {},
   "source": [
    "ссылка на презентацию https://yadi.sk/i/5lFdiYxx7SOpmw </font> <a id=\"презентация\"></a>\n",
    "\n",
    "</font> <a id=\"дашборд\"></a>\n",
    "ссылка на дашборд 1 https://public.tableau.com/profile/olga3823#!/vizhome/fin_dash/Dashboard1?publish=yes \n",
    "\n",
    "ссылка на дашборд 2 https://public.tableau.com/profile/olga3823#!/vizhome/dip_dash_2/Dashboard1"
   ]
  }
 ],
 "metadata": {
  "kernelspec": {
   "display_name": "Python 3",
   "language": "python",
   "name": "python3"
  },
  "language_info": {
   "codemirror_mode": {
    "name": "ipython",
    "version": 3
   },
   "file_extension": ".py",
   "mimetype": "text/x-python",
   "name": "python",
   "nbconvert_exporter": "python",
   "pygments_lexer": "ipython3",
   "version": "3.7.6"
  }
 },
 "nbformat": 4,
 "nbformat_minor": 2
}
